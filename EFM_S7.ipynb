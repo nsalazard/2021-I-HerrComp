{
  "nbformat": 4,
  "nbformat_minor": 0,
  "metadata": {
    "colab": {
      "name": "EFM_S7.ipynb",
      "provenance": [],
      "authorship_tag": "ABX9TyO4BGOAKPcgXhwz4neYphY8",
      "include_colab_link": true
    },
    "kernelspec": {
      "name": "python3",
      "display_name": "Python 3"
    },
    "language_info": {
      "name": "python"
    }
  },
  "cells": [
    {
      "cell_type": "markdown",
      "metadata": {
        "id": "view-in-github",
        "colab_type": "text"
      },
      "source": [
        "<a href=\"https://colab.research.google.com/github/nsalazard/2021-I-HerrComp/blob/master/EFM_S7.ipynb\" target=\"_parent\"><img src=\"https://colab.research.google.com/assets/colab-badge.svg\" alt=\"Open In Colab\"/></a>"
      ]
    },
    {
      "cell_type": "code",
      "execution_count": null,
      "metadata": {
        "colab": {
          "base_uri": "https://localhost:8080/",
          "height": 319
        },
        "id": "IoREkOFrv9Zc",
        "outputId": "f70c0c16-958b-4ce4-9191-1bbae7f9c1ee"
      },
      "outputs": [
        {
          "output_type": "stream",
          "name": "stderr",
          "text": [
            "/usr/local/lib/python3.7/dist-packages/statsmodels/tools/_testing.py:19: FutureWarning: pandas.util.testing is deprecated. Use the functions in the public API at pandas.testing instead.\n",
            "  import pandas.util.testing as tm\n"
          ]
        },
        {
          "output_type": "execute_result",
          "data": {
            "text/html": [
              "\n",
              "  <div id=\"df-99547d05-fb58-4291-98a8-33486160450a\">\n",
              "    <div class=\"colab-df-container\">\n",
              "      <div>\n",
              "<style scoped>\n",
              "    .dataframe tbody tr th:only-of-type {\n",
              "        vertical-align: middle;\n",
              "    }\n",
              "\n",
              "    .dataframe tbody tr th {\n",
              "        vertical-align: top;\n",
              "    }\n",
              "\n",
              "    .dataframe thead th {\n",
              "        text-align: right;\n",
              "    }\n",
              "</style>\n",
              "<table border=\"1\" class=\"dataframe\">\n",
              "  <thead>\n",
              "    <tr style=\"text-align: right;\">\n",
              "      <th>1</th>\n",
              "      <th>V [V]</th>\n",
              "      <th>D1-int [mm]</th>\n",
              "      <th>D1-ext [mm]</th>\n",
              "      <th>D2-int [mm]</th>\n",
              "      <th>D2-ext [mm]</th>\n",
              "      <th>D1</th>\n",
              "      <th>D2</th>\n",
              "      <th>2Θ1</th>\n",
              "      <th>2Θ2</th>\n",
              "      <th></th>\n",
              "      <th></th>\n",
              "      <th></th>\n",
              "      <th></th>\n",
              "      <th></th>\n",
              "      <th></th>\n",
              "      <th></th>\n",
              "      <th></th>\n",
              "      <th></th>\n",
              "      <th></th>\n",
              "    </tr>\n",
              "  </thead>\n",
              "  <tbody>\n",
              "    <tr>\n",
              "      <th>2</th>\n",
              "      <td>5000</td>\n",
              "      <td>21.80</td>\n",
              "      <td>25.40</td>\n",
              "      <td>39.45</td>\n",
              "      <td>45.25</td>\n",
              "      <td>0.024</td>\n",
              "      <td>0.04235</td>\n",
              "      <td>0.08719</td>\n",
              "      <td>0.15558</td>\n",
              "      <td></td>\n",
              "      <td></td>\n",
              "      <td></td>\n",
              "      <td></td>\n",
              "      <td></td>\n",
              "      <td></td>\n",
              "      <td></td>\n",
              "      <td></td>\n",
              "      <td></td>\n",
              "      <td></td>\n",
              "    </tr>\n",
              "    <tr>\n",
              "      <th>3</th>\n",
              "      <td>4800</td>\n",
              "      <td>22.70</td>\n",
              "      <td>25.60</td>\n",
              "      <td>39.40</td>\n",
              "      <td>43.45</td>\n",
              "      <td>0.024</td>\n",
              "      <td>0.041425</td>\n",
              "      <td>0.08921</td>\n",
              "      <td>0.15224</td>\n",
              "      <td></td>\n",
              "      <td></td>\n",
              "      <td></td>\n",
              "      <td></td>\n",
              "      <td></td>\n",
              "      <td></td>\n",
              "      <td></td>\n",
              "      <td></td>\n",
              "      <td></td>\n",
              "      <td></td>\n",
              "    </tr>\n",
              "    <tr>\n",
              "      <th>4</th>\n",
              "      <td>4600</td>\n",
              "      <td>22.70</td>\n",
              "      <td>26.00</td>\n",
              "      <td>39.30</td>\n",
              "      <td>47.50</td>\n",
              "      <td>0.024</td>\n",
              "      <td>0.0434</td>\n",
              "      <td>0.08994</td>\n",
              "      <td>0.15938</td>\n",
              "      <td></td>\n",
              "      <td></td>\n",
              "      <td></td>\n",
              "      <td></td>\n",
              "      <td></td>\n",
              "      <td></td>\n",
              "      <td></td>\n",
              "      <td></td>\n",
              "      <td></td>\n",
              "      <td></td>\n",
              "    </tr>\n",
              "    <tr>\n",
              "      <th>5</th>\n",
              "      <td>4400</td>\n",
              "      <td>23.60</td>\n",
              "      <td>26.70</td>\n",
              "      <td>40.85</td>\n",
              "      <td>46.20</td>\n",
              "      <td>0.025</td>\n",
              "      <td>0.043525</td>\n",
              "      <td>0.09288</td>\n",
              "      <td>0.15983</td>\n",
              "      <td></td>\n",
              "      <td></td>\n",
              "      <td></td>\n",
              "      <td></td>\n",
              "      <td></td>\n",
              "      <td></td>\n",
              "      <td></td>\n",
              "      <td></td>\n",
              "      <td></td>\n",
              "      <td></td>\n",
              "    </tr>\n",
              "    <tr>\n",
              "      <th>6</th>\n",
              "      <td>4200</td>\n",
              "      <td>24.00</td>\n",
              "      <td>26.35</td>\n",
              "      <td>42.50</td>\n",
              "      <td>45.95</td>\n",
              "      <td>0.025</td>\n",
              "      <td>0.044225</td>\n",
              "      <td>0.09297</td>\n",
              "      <td>0.16235</td>\n",
              "      <td></td>\n",
              "      <td></td>\n",
              "      <td></td>\n",
              "      <td></td>\n",
              "      <td></td>\n",
              "      <td></td>\n",
              "      <td></td>\n",
              "      <td></td>\n",
              "      <td></td>\n",
              "      <td></td>\n",
              "    </tr>\n",
              "  </tbody>\n",
              "</table>\n",
              "</div>\n",
              "      <button class=\"colab-df-convert\" onclick=\"convertToInteractive('df-99547d05-fb58-4291-98a8-33486160450a')\"\n",
              "              title=\"Convert this dataframe to an interactive table.\"\n",
              "              style=\"display:none;\">\n",
              "        \n",
              "  <svg xmlns=\"http://www.w3.org/2000/svg\" height=\"24px\"viewBox=\"0 0 24 24\"\n",
              "       width=\"24px\">\n",
              "    <path d=\"M0 0h24v24H0V0z\" fill=\"none\"/>\n",
              "    <path d=\"M18.56 5.44l.94 2.06.94-2.06 2.06-.94-2.06-.94-.94-2.06-.94 2.06-2.06.94zm-11 1L8.5 8.5l.94-2.06 2.06-.94-2.06-.94L8.5 2.5l-.94 2.06-2.06.94zm10 10l.94 2.06.94-2.06 2.06-.94-2.06-.94-.94-2.06-.94 2.06-2.06.94z\"/><path d=\"M17.41 7.96l-1.37-1.37c-.4-.4-.92-.59-1.43-.59-.52 0-1.04.2-1.43.59L10.3 9.45l-7.72 7.72c-.78.78-.78 2.05 0 2.83L4 21.41c.39.39.9.59 1.41.59.51 0 1.02-.2 1.41-.59l7.78-7.78 2.81-2.81c.8-.78.8-2.07 0-2.86zM5.41 20L4 18.59l7.72-7.72 1.47 1.35L5.41 20z\"/>\n",
              "  </svg>\n",
              "      </button>\n",
              "      \n",
              "  <style>\n",
              "    .colab-df-container {\n",
              "      display:flex;\n",
              "      flex-wrap:wrap;\n",
              "      gap: 12px;\n",
              "    }\n",
              "\n",
              "    .colab-df-convert {\n",
              "      background-color: #E8F0FE;\n",
              "      border: none;\n",
              "      border-radius: 50%;\n",
              "      cursor: pointer;\n",
              "      display: none;\n",
              "      fill: #1967D2;\n",
              "      height: 32px;\n",
              "      padding: 0 0 0 0;\n",
              "      width: 32px;\n",
              "    }\n",
              "\n",
              "    .colab-df-convert:hover {\n",
              "      background-color: #E2EBFA;\n",
              "      box-shadow: 0px 1px 2px rgba(60, 64, 67, 0.3), 0px 1px 3px 1px rgba(60, 64, 67, 0.15);\n",
              "      fill: #174EA6;\n",
              "    }\n",
              "\n",
              "    [theme=dark] .colab-df-convert {\n",
              "      background-color: #3B4455;\n",
              "      fill: #D2E3FC;\n",
              "    }\n",
              "\n",
              "    [theme=dark] .colab-df-convert:hover {\n",
              "      background-color: #434B5C;\n",
              "      box-shadow: 0px 1px 3px 1px rgba(0, 0, 0, 0.15);\n",
              "      filter: drop-shadow(0px 1px 2px rgba(0, 0, 0, 0.3));\n",
              "      fill: #FFFFFF;\n",
              "    }\n",
              "  </style>\n",
              "\n",
              "      <script>\n",
              "        const buttonEl =\n",
              "          document.querySelector('#df-99547d05-fb58-4291-98a8-33486160450a button.colab-df-convert');\n",
              "        buttonEl.style.display =\n",
              "          google.colab.kernel.accessAllowed ? 'block' : 'none';\n",
              "\n",
              "        async function convertToInteractive(key) {\n",
              "          const element = document.querySelector('#df-99547d05-fb58-4291-98a8-33486160450a');\n",
              "          const dataTable =\n",
              "            await google.colab.kernel.invokeFunction('convertToInteractive',\n",
              "                                                     [key], {});\n",
              "          if (!dataTable) return;\n",
              "\n",
              "          const docLinkHtml = 'Like what you see? Visit the ' +\n",
              "            '<a target=\"_blank\" href=https://colab.research.google.com/notebooks/data_table.ipynb>data table notebook</a>'\n",
              "            + ' to learn more about interactive tables.';\n",
              "          element.innerHTML = '';\n",
              "          dataTable['output_type'] = 'display_data';\n",
              "          await google.colab.output.renderOutput(dataTable, element);\n",
              "          const docLink = document.createElement('div');\n",
              "          docLink.innerHTML = docLinkHtml;\n",
              "          element.appendChild(docLink);\n",
              "        }\n",
              "      </script>\n",
              "    </div>\n",
              "  </div>\n",
              "  "
            ],
            "text/plain": [
              "1 V [V] D1-int [mm] D1-ext [mm] D2-int [mm] D2-ext [mm]     D1  ...            \n",
              "2  5000       21.80       25.40       39.45       45.25  0.024  ...            \n",
              "3  4800       22.70       25.60       39.40       43.45  0.024  ...            \n",
              "4  4600       22.70       26.00       39.30       47.50  0.024  ...            \n",
              "5  4400       23.60       26.70       40.85       46.20  0.025  ...            \n",
              "6  4200       24.00       26.35       42.50       45.95  0.025  ...            \n",
              "\n",
              "[5 rows x 19 columns]"
            ]
          },
          "metadata": {},
          "execution_count": 2
        }
      ],
      "source": [
        "import gspread\n",
        "import pandas as pd\n",
        "import statsmodels.api as sm\n",
        "import statistics\n",
        "import matplotlib.pyplot as plt \n",
        "import numpy as np\n",
        "from scipy.optimize import curve_fit\n",
        "from scipy.stats import norm, linregress\n",
        "import matplotlib.colors as mcolors\n",
        "from google.colab import auth\n",
        "from oauth2client.client import GoogleCredentials\n",
        "\n",
        "auth.authenticate_user()\n",
        "gc = gspread.authorize(GoogleCredentials.get_application_default())\n",
        "\n",
        "wb = gc.open_by_url('https://docs.google.com/spreadsheets/d/1KRkEE7mIjJQ5Krr5nAkNf6YiaAGwhDkM5VrJIUO3LDo/edit#gid=1020823456')\n",
        "worksheet=wb.worksheet('anillo')\n",
        "rows = worksheet.get_all_values()\n",
        "d1=pd.DataFrame(rows)\n",
        "titles=pd.DataFrame(rows)\n",
        "d1.columns = d1.iloc[1]\n",
        "titles=titles.iloc[1:2]\n",
        "d1 = d1.iloc[2:]\n",
        "d1.head()"
      ]
    },
    {
      "cell_type": "code",
      "source": [
        "nombres=d1.columns[0:9]\n",
        "for name in nombres:\n",
        "  d1[name]= pd.to_numeric(d1[name])"
      ],
      "metadata": {
        "id": "aHH4A3V6wcWI"
      },
      "execution_count": null,
      "outputs": []
    },
    {
      "cell_type": "code",
      "source": [
        "#FUNCIONES\n",
        "def f1(x,a,b):\n",
        "  return a*x**b\n",
        "\n",
        "def ERROR(x,y,m,b):\n",
        "  N = np.size(x)\n",
        "  Sx,Sy,Sxx,Syy,e,em,eb,z = 0,0,0,0,0,0,0,0\n",
        "  for i in range (N-1):\n",
        "    Sx += x[i]\n",
        "    Sy += y[i] \n",
        "    Sxx += x[i]*x[i]\n",
        "    Syy += y[i]*y[i]\n",
        "    z += (b+ m*x[i] - y[i])**2\n",
        "  e = np.sqrt(z/((N*Sxx -Sx*Sx)*(N-2)))\n",
        "  em = np.sqrt(N)*e\n",
        "  eb = np.sqrt(Sxx)*e\n",
        "\n",
        "  return (em, eb)"
      ],
      "metadata": {
        "id": "jtRRAcWPxX6l"
      },
      "execution_count": null,
      "outputs": []
    },
    {
      "cell_type": "code",
      "source": [
        "valx1=d1.loc[:13,\"V [V]\"]\n",
        "valy1=d1.loc[:13,\"D1\"]\n",
        "x1=valx1.values \n",
        "y1=valy1.values\n",
        "\n",
        "plt.scatter(x1,y1,color=\"black\",s=20)\n",
        "plt.minorticks_on()\n",
        "plt.grid(b=True,which=\"both\")\n",
        "\n",
        "popt, pcov = curve_fit(f1, x1,y1)\n",
        "plt.plot(x1, f1(x1, *popt), 'r-', label='$D_1$ = %3.3f V^%3.3f, $R^2$=0.975' % tuple(popt))\n",
        "\n",
        "#plt.xlim([-4, 0])\n",
        "plt.grid(b=True,which=\"both\")\n",
        "plt.legend(loc=\"upper right\") # lower left\n",
        "plt.ylabel(\"$D_1$[m]\")\n",
        "plt.xlabel(\"V [kV]\")\n",
        "plt.suptitle(\"Promedio del diametro del anillo 1 vs potencial\", fontsize=14,  fontname=\"Times New Roman Bold\")\n",
        "plt.ticklabel_format(useOffset=False, style='plain')\n",
        "#INCERTIDUMBRES\n",
        "#er_m, er_b = ERROR(x1,y1,gradient1,intercept1)\n",
        "#print(\"Ajuste, pendiente  %4.4E +-  %4.4E, intercept  %4.4E +-  %4.4E \"%(gradient1,er_m,intercept1, er_b)) \n",
        "#print(\"$R^2$ = %4.3f\" % abs(r_value1))"
      ],
      "metadata": {
        "colab": {
          "base_uri": "https://localhost:8080/",
          "height": 308
        },
        "id": "6rZFmf_RwnNn",
        "outputId": "57198472-ceed-4626-860c-ea808684bc8f"
      },
      "execution_count": null,
      "outputs": [
        {
          "output_type": "display_data",
          "data": {
            "image/png": "[encoded data removed]",
            "text/plain": [
              "<Figure size 432x288 with 1 Axes>"
            ]
          },
          "metadata": {
            "needs_background": "light"
          }
        }
      ]
    },
    {
      "cell_type": "code",
      "source": [
        "popt"
      ],
      "metadata": {
        "colab": {
          "base_uri": "https://localhost:8080/"
        },
        "id": "KHbgPOF4_5K9",
        "outputId": "53333152-63e3-4a38-de75-898b65a57d8e"
      },
      "execution_count": null,
      "outputs": [
        {
          "output_type": "execute_result",
          "data": {
            "text/plain": [
              "array([ 0.94439935, -0.43337844])"
            ]
          },
          "metadata": {},
          "execution_count": 7
        }
      ]
    },
    {
      "cell_type": "code",
      "source": [
        "pcov"
      ],
      "metadata": {
        "colab": {
          "base_uri": "https://localhost:8080/"
        },
        "id": "S7N5r0qjAiHc",
        "outputId": "6aa70823-b0bf-4487-e2f2-8e3367e88474"
      },
      "execution_count": null,
      "outputs": [
        {
          "output_type": "execute_result",
          "data": {
            "text/plain": [
              "array([[ 0.05019581, -0.00645984],\n",
              "       [-0.00645984,  0.00083175]])"
            ]
          },
          "metadata": {},
          "execution_count": 8
        }
      ]
    },
    {
      "cell_type": "code",
      "source": [
        "k1 = (0.27*6.626*10)/(1.23*np.sqrt(2.00*9.109*1.602))\n",
        "k2 = (0.27*6.626*10)/(2.13*np.sqrt(2.00*9.109*1.602))\n",
        "print(k1)\n",
        "print(k2)\n",
        "print((2.69-2.5)/2.69)\n",
        "print((1.55-1.5)/1.55)"
      ],
      "metadata": {
        "colab": {
          "base_uri": "https://localhost:8080/"
        },
        "id": "jmoYw9uv3gf9",
        "outputId": "f322c626-681a-4643-dc1c-9b42ba1ff5ae"
      },
      "execution_count": null,
      "outputs": [
        {
          "output_type": "stream",
          "name": "stdout",
          "text": [
            "2.6923311720022842\n",
            "1.5547264514379386\n",
            "0.07063197026022303\n",
            "0.03225806451612906\n"
          ]
        }
      ]
    },
    {
      "cell_type": "code",
      "source": [
        "valx1=d1.loc[:13,\"V [V]\"]\n",
        "valy1=d1.loc[:13,\"D2\"]\n",
        "x1=valx1.values \n",
        "y1=valy1.values\n",
        "\n",
        "plt.scatter(x1,y1,color=\"black\",s=20)\n",
        "plt.minorticks_on()\n",
        "plt.grid(b=True,which=\"both\")\n",
        "\n",
        "\n",
        "popt, pcov = curve_fit(f1, x1,y1)\n",
        "plt.plot(x1, f1(x1, *popt), 'r-', label='$D_1$ = %3.3f V^%3.3f, $R^2$=0.975' % tuple(popt))\n",
        "\n",
        "#plt.xlim([-4, 0])\n",
        "plt.grid(b=True,which=\"both\")\n",
        "plt.legend(loc=\"upper right\") # lower left\n",
        "plt.ylabel(\"$D_1$[m]\")\n",
        "plt.xlabel(\"V [kV]\")\n",
        "plt.suptitle(\"Promedio del diametro del anillo 1 vs potencial\", fontsize=14,  fontname=\"Times New Roman Bold\")\n",
        "plt.ticklabel_format(useOffset=False, style='plain')\n",
        "#INCERTIDUMBRES"
      ],
      "metadata": {
        "colab": {
          "base_uri": "https://localhost:8080/",
          "height": 308
        },
        "id": "T-IwD-2O6j8Z",
        "outputId": "50b58402-6e61-4eea-ad48-bcd758a3b516"
      },
      "execution_count": null,
      "outputs": [
        {
          "output_type": "display_data",
          "data": {
            "image/png": "[encoded data removed]",
            "text/plain": [
              "<Figure size 432x288 with 1 Axes>"
            ]
          },
          "metadata": {
            "needs_background": "light"
          }
        }
      ]
    },
    {
      "cell_type": "code",
      "source": [
        "pcov"
      ],
      "metadata": {
        "colab": {
          "base_uri": "https://localhost:8080/"
        },
        "id": "UA1lNqIZYPQm",
        "outputId": "b448a6b0-3c3c-4804-cd2f-69d9cfbc863d"
      },
      "execution_count": null,
      "outputs": [
        {
          "output_type": "execute_result",
          "data": {
            "text/plain": [
              "array([[ 5.54118483e+00, -4.62241158e-02],\n",
              "       [-4.62241158e-02,  3.85788147e-04]])"
            ]
          },
          "metadata": {},
          "execution_count": 46
        }
      ]
    },
    {
      "cell_type": "code",
      "source": [
        ""
      ],
      "metadata": {
        "id": "xm-M2k-TYTWr"
      },
      "execution_count": null,
      "outputs": []
    }
  ]
}